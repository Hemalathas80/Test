{
    "cells": [
        {
            "cell_type": "markdown",
            "metadata": {},
            "source": "<div class=\"alert alert-block alert-info\" style=\"margin-top: 20px\">\n    <a href=\"https://cocl.us/PY0101EN_edx_add_top\">\n         <img src=\"https://s3-api.us-geo.objectstorage.softlayer.net/cf-courses-data/CognitiveClass/PY0101EN/Ad/TopAd.png\" width=\"750\" align=\"center\">\n    </a>\n</div>"
        },
        {
            "cell_type": "code",
            "execution_count": 1,
            "metadata": {},
            "outputs": [
                {
                    "data": {
                        "text/html": "<div>\n<style scoped>\n    .dataframe tbody tr th:only-of-type {\n        vertical-align: middle;\n    }\n\n    .dataframe tbody tr th {\n        vertical-align: top;\n    }\n\n    .dataframe thead th {\n        text-align: right;\n    }\n</style>\n<table border=\"1\" class=\"dataframe\">\n  <thead>\n    <tr style=\"text-align: right;\">\n      <th></th>\n      <th>date</th>\n      <th>level-current</th>\n      <th>level-chained</th>\n      <th>change-current</th>\n      <th>change-chained</th>\n    </tr>\n  </thead>\n  <tbody>\n    <tr>\n      <th>0</th>\n      <td>1948</td>\n      <td>274.8</td>\n      <td>2020.0</td>\n      <td>-0.7</td>\n      <td>-0.6</td>\n    </tr>\n    <tr>\n      <th>1</th>\n      <td>1949</td>\n      <td>272.8</td>\n      <td>2008.9</td>\n      <td>10.0</td>\n      <td>8.7</td>\n    </tr>\n    <tr>\n      <th>2</th>\n      <td>1950</td>\n      <td>300.2</td>\n      <td>2184.0</td>\n      <td>15.7</td>\n      <td>8.0</td>\n    </tr>\n    <tr>\n      <th>3</th>\n      <td>1951</td>\n      <td>347.3</td>\n      <td>2360.0</td>\n      <td>5.9</td>\n      <td>4.1</td>\n    </tr>\n    <tr>\n      <th>4</th>\n      <td>1952</td>\n      <td>367.7</td>\n      <td>2456.1</td>\n      <td>6.0</td>\n      <td>4.7</td>\n    </tr>\n  </tbody>\n</table>\n</div>",
                        "text/plain": "   date  level-current  level-chained  change-current  change-chained\n0  1948          274.8         2020.0            -0.7            -0.6\n1  1949          272.8         2008.9            10.0             8.7\n2  1950          300.2         2184.0            15.7             8.0\n3  1951          347.3         2360.0             5.9             4.1\n4  1952          367.7         2456.1             6.0             4.7"
                    },
                    "execution_count": 1,
                    "metadata": {},
                    "output_type": "execute_result"
                }
            ],
            "source": "import pandas as pd\ngdp_path = 'https://s3-api.us-geo.objectstorage.softlayer.net/cf-courses-data/CognitiveClass/PY0101EN/projects/coursera_project/clean_gdp.csv'\ngdp_df = pd.read_csv(gdp_path)\ngdp_df.head()"
        },
        {
            "cell_type": "code",
            "execution_count": 2,
            "metadata": {
                "scrolled": true
            },
            "outputs": [
                {
                    "data": {
                        "text/html": "<div>\n<style scoped>\n    .dataframe tbody tr th:only-of-type {\n        vertical-align: middle;\n    }\n\n    .dataframe tbody tr th {\n        vertical-align: top;\n    }\n\n    .dataframe thead th {\n        text-align: right;\n    }\n</style>\n<table border=\"1\" class=\"dataframe\">\n  <thead>\n    <tr style=\"text-align: right;\">\n      <th></th>\n      <th>date</th>\n      <th>unemployment</th>\n    </tr>\n  </thead>\n  <tbody>\n    <tr>\n      <th>0</th>\n      <td>1948</td>\n      <td>3.750000</td>\n    </tr>\n    <tr>\n      <th>1</th>\n      <td>1949</td>\n      <td>6.050000</td>\n    </tr>\n    <tr>\n      <th>2</th>\n      <td>1950</td>\n      <td>5.208333</td>\n    </tr>\n    <tr>\n      <th>3</th>\n      <td>1951</td>\n      <td>3.283333</td>\n    </tr>\n    <tr>\n      <th>4</th>\n      <td>1952</td>\n      <td>3.025000</td>\n    </tr>\n  </tbody>\n</table>\n</div>",
                        "text/plain": "   date  unemployment\n0  1948      3.750000\n1  1949      6.050000\n2  1950      5.208333\n3  1951      3.283333\n4  1952      3.025000"
                    },
                    "execution_count": 2,
                    "metadata": {},
                    "output_type": "execute_result"
                }
            ],
            "source": "import pandas as pd\nunemploy_path = 'https://s3-api.us-geo.objectstorage.softlayer.net/cf-courses-data/CognitiveClass/PY0101EN/projects/coursera_project/clean_unemployment.csv'\nunemploy_df = pd.read_csv(unemploy_path)\nunemploy_df.head()"
        },
        {
            "cell_type": "code",
            "execution_count": 3,
            "metadata": {},
            "outputs": [
                {
                    "data": {
                        "text/html": "<div>\n<style scoped>\n    .dataframe tbody tr th:only-of-type {\n        vertical-align: middle;\n    }\n\n    .dataframe tbody tr th {\n        vertical-align: top;\n    }\n\n    .dataframe thead th {\n        text-align: right;\n    }\n</style>\n<table border=\"1\" class=\"dataframe\">\n  <thead>\n    <tr style=\"text-align: right;\">\n      <th></th>\n      <th>date</th>\n      <th>unemployment</th>\n    </tr>\n  </thead>\n  <tbody>\n    <tr>\n      <th>34</th>\n      <td>1982</td>\n      <td>9.708333</td>\n    </tr>\n    <tr>\n      <th>35</th>\n      <td>1983</td>\n      <td>9.600000</td>\n    </tr>\n    <tr>\n      <th>61</th>\n      <td>2009</td>\n      <td>9.283333</td>\n    </tr>\n    <tr>\n      <th>62</th>\n      <td>2010</td>\n      <td>9.608333</td>\n    </tr>\n    <tr>\n      <th>63</th>\n      <td>2011</td>\n      <td>8.933333</td>\n    </tr>\n  </tbody>\n</table>\n</div>",
                        "text/plain": "    date  unemployment\n34  1982      9.708333\n35  1983      9.600000\n61  2009      9.283333\n62  2010      9.608333\n63  2011      8.933333"
                    },
                    "execution_count": 3,
                    "metadata": {},
                    "output_type": "execute_result"
                }
            ],
            "source": "import pandas as pd\nunemploy_path = 'https://s3-api.us-geo.objectstorage.softlayer.net/cf-courses-data/CognitiveClass/PY0101EN/projects/coursera_project/clean_unemployment.csv'\nunemploy_df = pd.read_csv(unemploy_path)\nunemploy_df.loc[unemploy_df['unemployment']>8.5]"
        },
        {
            "cell_type": "code",
            "execution_count": 30,
            "metadata": {},
            "outputs": [
                {
                    "data": {
                        "text/html": "\n    <div class=\"bk-root\">\n        <a href=\"https://bokeh.pydata.org\" target=\"_blank\" class=\"bk-logo bk-logo-small bk-logo-notebook\"></a>\n        <span id=\"1793\">Loading BokehJS ...</span>\n    </div>"
                    },
                    "metadata": {},
                    "output_type": "display_data"
                },
                {
                    "data": {
                        "application/javascript": "\n(function(root) {\n  function now() {\n    return new Date();\n  }\n\n  var force = true;\n\n  if (typeof (root._bokeh_onload_callbacks) === \"undefined\" || force === true) {\n    root._bokeh_onload_callbacks = [];\n    root._bokeh_is_loading = undefined;\n  }\n\n  var JS_MIME_TYPE = 'application/javascript';\n  var HTML_MIME_TYPE = 'text/html';\n  var EXEC_MIME_TYPE = 'application/vnd.bokehjs_exec.v0+json';\n  var CLASS_NAME = 'output_bokeh rendered_html';\n\n  /**\n   * Render data to the DOM node\n   */\n  function render(props, node) {\n    var script = document.createElement(\"script\");\n    node.appendChild(script);\n  }\n\n  /**\n   * Handle when an output is cleared or removed\n   */\n  function handleClearOutput(event, handle) {\n    var cell = handle.cell;\n\n    var id = cell.output_area._bokeh_element_id;\n    var server_id = cell.output_area._bokeh_server_id;\n    // Clean up Bokeh references\n    if (id != null && id in Bokeh.index) {\n      Bokeh.index[id].model.document.clear();\n      delete Bokeh.index[id];\n    }\n\n    if (server_id !== undefined) {\n      // Clean up Bokeh references\n      var cmd = \"from bokeh.io.state import curstate; print(curstate().uuid_to_server['\" + server_id + \"'].get_sessions()[0].document.roots[0]._id)\";\n      cell.notebook.kernel.execute(cmd, {\n        iopub: {\n          output: function(msg) {\n            var id = msg.content.text.trim();\n            if (id in Bokeh.index) {\n              Bokeh.index[id].model.document.clear();\n              delete Bokeh.index[id];\n            }\n          }\n        }\n      });\n      // Destroy server and session\n      var cmd = \"import bokeh.io.notebook as ion; ion.destroy_server('\" + server_id + \"')\";\n      cell.notebook.kernel.execute(cmd);\n    }\n  }\n\n  /**\n   * Handle when a new output is added\n   */\n  function handleAddOutput(event, handle) {\n    var output_area = handle.output_area;\n    var output = handle.output;\n\n    // limit handleAddOutput to display_data with EXEC_MIME_TYPE content only\n    if ((output.output_type != \"display_data\") || (!output.data.hasOwnProperty(EXEC_MIME_TYPE))) {\n      return\n    }\n\n    var toinsert = output_area.element.find(\".\" + CLASS_NAME.split(' ')[0]);\n\n    if (output.metadata[EXEC_MIME_TYPE][\"id\"] !== undefined) {\n      toinsert[toinsert.length - 1].firstChild.textContent = output.data[JS_MIME_TYPE];\n      // store reference to embed id on output_area\n      output_area._bokeh_element_id = output.metadata[EXEC_MIME_TYPE][\"id\"];\n    }\n    if (output.metadata[EXEC_MIME_TYPE][\"server_id\"] !== undefined) {\n      var bk_div = document.createElement(\"div\");\n      bk_div.innerHTML = output.data[HTML_MIME_TYPE];\n      var script_attrs = bk_div.children[0].attributes;\n      for (var i = 0; i < script_attrs.length; i++) {\n        toinsert[toinsert.length - 1].firstChild.setAttribute(script_attrs[i].name, script_attrs[i].value);\n      }\n      // store reference to server id on output_area\n      output_area._bokeh_server_id = output.metadata[EXEC_MIME_TYPE][\"server_id\"];\n    }\n  }\n\n  function register_renderer(events, OutputArea) {\n\n    function append_mime(data, metadata, element) {\n      // create a DOM node to render to\n      var toinsert = this.create_output_subarea(\n        metadata,\n        CLASS_NAME,\n        EXEC_MIME_TYPE\n      );\n      this.keyboard_manager.register_events(toinsert);\n      // Render to node\n      var props = {data: data, metadata: metadata[EXEC_MIME_TYPE]};\n      render(props, toinsert[toinsert.length - 1]);\n      element.append(toinsert);\n      return toinsert\n    }\n\n    /* Handle when an output is cleared or removed */\n    events.on('clear_output.CodeCell', handleClearOutput);\n    events.on('delete.Cell', handleClearOutput);\n\n    /* Handle when a new output is added */\n    events.on('output_added.OutputArea', handleAddOutput);\n\n    /**\n     * Register the mime type and append_mime function with output_area\n     */\n    OutputArea.prototype.register_mime_type(EXEC_MIME_TYPE, append_mime, {\n      /* Is output safe? */\n      safe: true,\n      /* Index of renderer in `output_area.display_order` */\n      index: 0\n    });\n  }\n\n  // register the mime type if in Jupyter Notebook environment and previously unregistered\n  if (root.Jupyter !== undefined) {\n    var events = require('base/js/events');\n    var OutputArea = require('notebook/js/outputarea').OutputArea;\n\n    if (OutputArea.prototype.mime_types().indexOf(EXEC_MIME_TYPE) == -1) {\n      register_renderer(events, OutputArea);\n    }\n  }\n\n  \n  if (typeof (root._bokeh_timeout) === \"undefined\" || force === true) {\n    root._bokeh_timeout = Date.now() + 5000;\n    root._bokeh_failed_load = false;\n  }\n\n  var NB_LOAD_WARNING = {'data': {'text/html':\n     \"<div style='background-color: #fdd'>\\n\"+\n     \"<p>\\n\"+\n     \"BokehJS does not appear to have successfully loaded. If loading BokehJS from CDN, this \\n\"+\n     \"may be due to a slow or bad network connection. Possible fixes:\\n\"+\n     \"</p>\\n\"+\n     \"<ul>\\n\"+\n     \"<li>re-rerun `output_notebook()` to attempt to load from CDN again, or</li>\\n\"+\n     \"<li>use INLINE resources instead, as so:</li>\\n\"+\n     \"</ul>\\n\"+\n     \"<code>\\n\"+\n     \"from bokeh.resources import INLINE\\n\"+\n     \"output_notebook(resources=INLINE)\\n\"+\n     \"</code>\\n\"+\n     \"</div>\"}};\n\n  function display_loaded() {\n    var el = document.getElementById(\"1793\");\n    if (el != null) {\n      el.textContent = \"BokehJS is loading...\";\n    }\n    if (root.Bokeh !== undefined) {\n      if (el != null) {\n        el.textContent = \"BokehJS \" + root.Bokeh.version + \" successfully loaded.\";\n      }\n    } else if (Date.now() < root._bokeh_timeout) {\n      setTimeout(display_loaded, 100)\n    }\n  }\n\n\n  function run_callbacks() {\n    try {\n      root._bokeh_onload_callbacks.forEach(function(callback) { callback() });\n    }\n    finally {\n      delete root._bokeh_onload_callbacks\n    }\n    console.info(\"Bokeh: all callbacks have finished\");\n  }\n\n  function load_libs(js_urls, callback) {\n    root._bokeh_onload_callbacks.push(callback);\n    if (root._bokeh_is_loading > 0) {\n      console.log(\"Bokeh: BokehJS is being loaded, scheduling callback at\", now());\n      return null;\n    }\n    if (js_urls == null || js_urls.length === 0) {\n      run_callbacks();\n      return null;\n    }\n    console.log(\"Bokeh: BokehJS not loaded, scheduling load and callback at\", now());\n    root._bokeh_is_loading = js_urls.length;\n    for (var i = 0; i < js_urls.length; i++) {\n      var url = js_urls[i];\n      var s = document.createElement('script');\n      s.src = url;\n      s.async = false;\n      s.onreadystatechange = s.onload = function() {\n        root._bokeh_is_loading--;\n        if (root._bokeh_is_loading === 0) {\n          console.log(\"Bokeh: all BokehJS libraries loaded\");\n          run_callbacks()\n        }\n      };\n      s.onerror = function() {\n        console.warn(\"failed to load library \" + url);\n      };\n      console.log(\"Bokeh: injecting script tag for BokehJS library: \", url);\n      document.getElementsByTagName(\"head\")[0].appendChild(s);\n    }\n  };var element = document.getElementById(\"1793\");\n  if (element == null) {\n    console.log(\"Bokeh: ERROR: autoload.js configured with elementid '1793' but no matching script tag was found. \")\n    return false;\n  }\n\n  var js_urls = [\"https://cdn.pydata.org/bokeh/release/bokeh-1.0.4.min.js\", \"https://cdn.pydata.org/bokeh/release/bokeh-widgets-1.0.4.min.js\", \"https://cdn.pydata.org/bokeh/release/bokeh-tables-1.0.4.min.js\", \"https://cdn.pydata.org/bokeh/release/bokeh-gl-1.0.4.min.js\"];\n\n  var inline_js = [\n    function(Bokeh) {\n      Bokeh.set_log_level(\"info\");\n    },\n    \n    function(Bokeh) {\n      \n    },\n    function(Bokeh) {\n      console.log(\"Bokeh: injecting CSS: https://cdn.pydata.org/bokeh/release/bokeh-1.0.4.min.css\");\n      Bokeh.embed.inject_css(\"https://cdn.pydata.org/bokeh/release/bokeh-1.0.4.min.css\");\n      console.log(\"Bokeh: injecting CSS: https://cdn.pydata.org/bokeh/release/bokeh-widgets-1.0.4.min.css\");\n      Bokeh.embed.inject_css(\"https://cdn.pydata.org/bokeh/release/bokeh-widgets-1.0.4.min.css\");\n      console.log(\"Bokeh: injecting CSS: https://cdn.pydata.org/bokeh/release/bokeh-tables-1.0.4.min.css\");\n      Bokeh.embed.inject_css(\"https://cdn.pydata.org/bokeh/release/bokeh-tables-1.0.4.min.css\");\n    }\n  ];\n\n  function run_inline_js() {\n    \n    if ((root.Bokeh !== undefined) || (force === true)) {\n      for (var i = 0; i < inline_js.length; i++) {\n        inline_js[i].call(root, root.Bokeh);\n      }if (force === true) {\n        display_loaded();\n      }} else if (Date.now() < root._bokeh_timeout) {\n      setTimeout(run_inline_js, 100);\n    } else if (!root._bokeh_failed_load) {\n      console.log(\"Bokeh: BokehJS failed to load within specified timeout.\");\n      root._bokeh_failed_load = true;\n    } else if (force !== true) {\n      var cell = $(document.getElementById(\"1793\")).parents('.cell').data().cell;\n      cell.output_area.append_execute_result(NB_LOAD_WARNING)\n    }\n\n  }\n\n  if (root._bokeh_is_loading === 0) {\n    console.log(\"Bokeh: BokehJS loaded, going straight to plotting\");\n    run_inline_js();\n  } else {\n    load_libs(js_urls, function() {\n      console.log(\"Bokeh: BokehJS plotting callback run at\", now());\n      run_inline_js();\n    });\n  }\n}(window));",
                        "application/vnd.bokehjs_load.v0+json": "\n(function(root) {\n  function now() {\n    return new Date();\n  }\n\n  var force = true;\n\n  if (typeof (root._bokeh_onload_callbacks) === \"undefined\" || force === true) {\n    root._bokeh_onload_callbacks = [];\n    root._bokeh_is_loading = undefined;\n  }\n\n  \n\n  \n  if (typeof (root._bokeh_timeout) === \"undefined\" || force === true) {\n    root._bokeh_timeout = Date.now() + 5000;\n    root._bokeh_failed_load = false;\n  }\n\n  var NB_LOAD_WARNING = {'data': {'text/html':\n     \"<div style='background-color: #fdd'>\\n\"+\n     \"<p>\\n\"+\n     \"BokehJS does not appear to have successfully loaded. If loading BokehJS from CDN, this \\n\"+\n     \"may be due to a slow or bad network connection. Possible fixes:\\n\"+\n     \"</p>\\n\"+\n     \"<ul>\\n\"+\n     \"<li>re-rerun `output_notebook()` to attempt to load from CDN again, or</li>\\n\"+\n     \"<li>use INLINE resources instead, as so:</li>\\n\"+\n     \"</ul>\\n\"+\n     \"<code>\\n\"+\n     \"from bokeh.resources import INLINE\\n\"+\n     \"output_notebook(resources=INLINE)\\n\"+\n     \"</code>\\n\"+\n     \"</div>\"}};\n\n  function display_loaded() {\n    var el = document.getElementById(\"1793\");\n    if (el != null) {\n      el.textContent = \"BokehJS is loading...\";\n    }\n    if (root.Bokeh !== undefined) {\n      if (el != null) {\n        el.textContent = \"BokehJS \" + root.Bokeh.version + \" successfully loaded.\";\n      }\n    } else if (Date.now() < root._bokeh_timeout) {\n      setTimeout(display_loaded, 100)\n    }\n  }\n\n\n  function run_callbacks() {\n    try {\n      root._bokeh_onload_callbacks.forEach(function(callback) { callback() });\n    }\n    finally {\n      delete root._bokeh_onload_callbacks\n    }\n    console.info(\"Bokeh: all callbacks have finished\");\n  }\n\n  function load_libs(js_urls, callback) {\n    root._bokeh_onload_callbacks.push(callback);\n    if (root._bokeh_is_loading > 0) {\n      console.log(\"Bokeh: BokehJS is being loaded, scheduling callback at\", now());\n      return null;\n    }\n    if (js_urls == null || js_urls.length === 0) {\n      run_callbacks();\n      return null;\n    }\n    console.log(\"Bokeh: BokehJS not loaded, scheduling load and callback at\", now());\n    root._bokeh_is_loading = js_urls.length;\n    for (var i = 0; i < js_urls.length; i++) {\n      var url = js_urls[i];\n      var s = document.createElement('script');\n      s.src = url;\n      s.async = false;\n      s.onreadystatechange = s.onload = function() {\n        root._bokeh_is_loading--;\n        if (root._bokeh_is_loading === 0) {\n          console.log(\"Bokeh: all BokehJS libraries loaded\");\n          run_callbacks()\n        }\n      };\n      s.onerror = function() {\n        console.warn(\"failed to load library \" + url);\n      };\n      console.log(\"Bokeh: injecting script tag for BokehJS library: \", url);\n      document.getElementsByTagName(\"head\")[0].appendChild(s);\n    }\n  };var element = document.getElementById(\"1793\");\n  if (element == null) {\n    console.log(\"Bokeh: ERROR: autoload.js configured with elementid '1793' but no matching script tag was found. \")\n    return false;\n  }\n\n  var js_urls = [\"https://cdn.pydata.org/bokeh/release/bokeh-1.0.4.min.js\", \"https://cdn.pydata.org/bokeh/release/bokeh-widgets-1.0.4.min.js\", \"https://cdn.pydata.org/bokeh/release/bokeh-tables-1.0.4.min.js\", \"https://cdn.pydata.org/bokeh/release/bokeh-gl-1.0.4.min.js\"];\n\n  var inline_js = [\n    function(Bokeh) {\n      Bokeh.set_log_level(\"info\");\n    },\n    \n    function(Bokeh) {\n      \n    },\n    function(Bokeh) {\n      console.log(\"Bokeh: injecting CSS: https://cdn.pydata.org/bokeh/release/bokeh-1.0.4.min.css\");\n      Bokeh.embed.inject_css(\"https://cdn.pydata.org/bokeh/release/bokeh-1.0.4.min.css\");\n      console.log(\"Bokeh: injecting CSS: https://cdn.pydata.org/bokeh/release/bokeh-widgets-1.0.4.min.css\");\n      Bokeh.embed.inject_css(\"https://cdn.pydata.org/bokeh/release/bokeh-widgets-1.0.4.min.css\");\n      console.log(\"Bokeh: injecting CSS: https://cdn.pydata.org/bokeh/release/bokeh-tables-1.0.4.min.css\");\n      Bokeh.embed.inject_css(\"https://cdn.pydata.org/bokeh/release/bokeh-tables-1.0.4.min.css\");\n    }\n  ];\n\n  function run_inline_js() {\n    \n    if ((root.Bokeh !== undefined) || (force === true)) {\n      for (var i = 0; i < inline_js.length; i++) {\n        inline_js[i].call(root, root.Bokeh);\n      }if (force === true) {\n        display_loaded();\n      }} else if (Date.now() < root._bokeh_timeout) {\n      setTimeout(run_inline_js, 100);\n    } else if (!root._bokeh_failed_load) {\n      console.log(\"Bokeh: BokehJS failed to load within specified timeout.\");\n      root._bokeh_failed_load = true;\n    } else if (force !== true) {\n      var cell = $(document.getElementById(\"1793\")).parents('.cell').data().cell;\n      cell.output_area.append_execute_result(NB_LOAD_WARNING)\n    }\n\n  }\n\n  if (root._bokeh_is_loading === 0) {\n    console.log(\"Bokeh: BokehJS loaded, going straight to plotting\");\n    run_inline_js();\n  } else {\n    load_libs(js_urls, function() {\n      console.log(\"Bokeh: BokehJS plotting callback run at\", now());\n      run_inline_js();\n    });\n  }\n}(window));"
                    },
                    "metadata": {},
                    "output_type": "display_data"
                },
                {
                    "data": {
                        "text/html": "\n\n\n\n\n\n  <div class=\"bk-root\" id=\"bedbf930-bec6-4d17-88b1-7e01b017f10e\" data-root-id=\"1795\"></div>\n"
                    },
                    "metadata": {},
                    "output_type": "display_data"
                },
                {
                    "data": {
                        "application/javascript": "(function(root) {\n  function embed_document(root) {\n    \n  var docs_json = {\"a0266558-ac43-4b3c-966e-e683a8db7cc7\":{\"roots\":{\"references\":[{\"attributes\":{\"below\":[{\"id\":\"1805\",\"type\":\"LinearAxis\"}],\"left\":[{\"id\":\"1810\",\"type\":\"LinearAxis\"}],\"renderers\":[{\"id\":\"1805\",\"type\":\"LinearAxis\"},{\"id\":\"1809\",\"type\":\"Grid\"},{\"id\":\"1810\",\"type\":\"LinearAxis\"},{\"id\":\"1814\",\"type\":\"Grid\"},{\"id\":\"1823\",\"type\":\"BoxAnnotation\"},{\"id\":\"1841\",\"type\":\"Legend\"},{\"id\":\"1833\",\"type\":\"GlyphRenderer\"},{\"id\":\"1846\",\"type\":\"GlyphRenderer\"}],\"title\":{\"id\":\"1794\",\"type\":\"Title\"},\"toolbar\":{\"id\":\"1821\",\"type\":\"Toolbar\"},\"x_range\":{\"id\":\"1797\",\"type\":\"DataRange1d\"},\"x_scale\":{\"id\":\"1801\",\"type\":\"LinearScale\"},\"y_range\":{\"id\":\"1799\",\"type\":\"DataRange1d\"},\"y_scale\":{\"id\":\"1803\",\"type\":\"LinearScale\"}},\"id\":\"1795\",\"subtype\":\"Figure\",\"type\":\"Plot\"},{\"attributes\":{\"data_source\":{\"id\":\"1843\",\"type\":\"ColumnDataSource\"},\"glyph\":{\"id\":\"1844\",\"type\":\"Line\"},\"hover_glyph\":null,\"muted_glyph\":null,\"nonselection_glyph\":{\"id\":\"1845\",\"type\":\"Line\"},\"selection_glyph\":null,\"view\":{\"id\":\"1847\",\"type\":\"CDSView\"}},\"id\":\"1846\",\"type\":\"GlyphRenderer\"},{\"attributes\":{},\"id\":\"1818\",\"type\":\"SaveTool\"},{\"attributes\":{\"line_alpha\":0.1,\"line_color\":\"#1f77b4\",\"line_width\":4,\"x\":{\"field\":\"x\"},\"y\":{\"field\":\"y\"}},\"id\":\"1845\",\"type\":\"Line\"},{\"attributes\":{\"overlay\":{\"id\":\"1823\",\"type\":\"BoxAnnotation\"}},\"id\":\"1817\",\"type\":\"BoxZoomTool\"},{\"attributes\":{\"axis_label\":\"%\",\"formatter\":{\"id\":\"1837\",\"type\":\"BasicTickFormatter\"},\"plot\":{\"id\":\"1795\",\"subtype\":\"Figure\",\"type\":\"Plot\"},\"ticker\":{\"id\":\"1811\",\"type\":\"BasicTicker\"}},\"id\":\"1810\",\"type\":\"LinearAxis\"},{\"attributes\":{\"plot\":{\"id\":\"1795\",\"subtype\":\"Figure\",\"type\":\"Plot\"},\"ticker\":{\"id\":\"1806\",\"type\":\"BasicTicker\"}},\"id\":\"1809\",\"type\":\"Grid\"},{\"attributes\":{},\"id\":\"1855\",\"type\":\"UnionRenderers\"},{\"attributes\":{},\"id\":\"1819\",\"type\":\"ResetTool\"},{\"attributes\":{\"bottom_units\":\"screen\",\"fill_alpha\":{\"value\":0.5},\"fill_color\":{\"value\":\"lightgrey\"},\"left_units\":\"screen\",\"level\":\"overlay\",\"line_alpha\":{\"value\":1.0},\"line_color\":{\"value\":\"black\"},\"line_dash\":[4,4],\"line_width\":{\"value\":2},\"plot\":null,\"render_mode\":\"css\",\"right_units\":\"screen\",\"top_units\":\"screen\"},\"id\":\"1823\",\"type\":\"BoxAnnotation\"},{\"attributes\":{},\"id\":\"1801\",\"type\":\"LinearScale\"},{\"attributes\":{\"label\":{\"value\":\"% unemployed\"},\"renderers\":[{\"id\":\"1846\",\"type\":\"GlyphRenderer\"}]},\"id\":\"1856\",\"type\":\"LegendItem\"},{\"attributes\":{},\"id\":\"1820\",\"type\":\"HelpTool\"},{\"attributes\":{},\"id\":\"1803\",\"type\":\"LinearScale\"},{\"attributes\":{},\"id\":\"1854\",\"type\":\"Selection\"},{\"attributes\":{\"line_color\":\"red\",\"line_width\":4,\"x\":{\"field\":\"x\"},\"y\":{\"field\":\"y\"}},\"id\":\"1831\",\"type\":\"Line\"},{\"attributes\":{\"callback\":null},\"id\":\"1799\",\"type\":\"DataRange1d\"},{\"attributes\":{},\"id\":\"1886\",\"type\":\"UnionRenderers\"},{\"attributes\":{},\"id\":\"1885\",\"type\":\"Selection\"},{\"attributes\":{\"line_alpha\":0.1,\"line_color\":\"#1f77b4\",\"line_width\":4,\"x\":{\"field\":\"x\"},\"y\":{\"field\":\"y\"}},\"id\":\"1832\",\"type\":\"Line\"},{\"attributes\":{},\"id\":\"1806\",\"type\":\"BasicTicker\"},{\"attributes\":{},\"id\":\"1839\",\"type\":\"BasicTickFormatter\"},{\"attributes\":{},\"id\":\"1837\",\"type\":\"BasicTickFormatter\"},{\"attributes\":{},\"id\":\"1816\",\"type\":\"WheelZoomTool\"},{\"attributes\":{\"source\":{\"id\":\"1830\",\"type\":\"ColumnDataSource\"}},\"id\":\"1834\",\"type\":\"CDSView\"},{\"attributes\":{},\"id\":\"1815\",\"type\":\"PanTool\"},{\"attributes\":{\"dimension\":1,\"plot\":{\"id\":\"1795\",\"subtype\":\"Figure\",\"type\":\"Plot\"},\"ticker\":{\"id\":\"1811\",\"type\":\"BasicTicker\"}},\"id\":\"1814\",\"type\":\"Grid\"},{\"attributes\":{\"callback\":null,\"data\":{\"x\":[1948,1949,1950,1951,1952,1953,1954,1955,1956,1957,1958,1959,1960,1961,1962,1963,1964,1965,1966,1967,1968,1969,1970,1971,1972,1973,1974,1975,1976,1977,1978,1979,1980,1981,1982,1983,1984,1985,1986,1987,1988,1989,1990,1991,1992,1993,1994,1995,1996,1997,1998,1999,2000,2001,2002,2003,2004,2005,2006,2007,2008,2009,2010,2011,2012,2013,2014,2015,2016],\"y\":{\"__ndarray__\":\"ZmZmZmZm5r8AAAAAAAAkQGZmZmZmZi9AmpmZmZmZF0AAAAAAAAAYQDMzMzMzM9M/zczMzMzMIUBmZmZmZmYWQAAAAAAAABZAAAAAAAAA+D/NzMzMzMwgQAAAAAAAABBAmpmZmZmZDUCamZmZmZkdQGZmZmZmZhZAmpmZmZmZHUDNzMzMzMwgQDMzMzMzMyNAzczMzMzMFkDNzMzMzMwiQGZmZmZmZiBAAAAAAAAAFkAAAAAAAAAhQJqZmZmZmSNAzczMzMzMJkDNzMzMzMwgQAAAAAAAACJAZmZmZmZmJkAzMzMzMzMmQAAAAAAAACpAZmZmZmZmJ0CamZmZmZkhQGZmZmZmZihAMzMzMzMzEUBmZmZmZmYhQDMzMzMzMyZAAAAAAAAAHkAAAAAAAAAWQAAAAAAAABhAmpmZmZmZH0DNzMzMzMweQM3MzMzMzBZAZmZmZmZmCkCamZmZmZkXQM3MzMzMzBRAMzMzMzMzGUAzMzMzMzMTQM3MzMzMzBZAzczMzMzMGEDNzMzMzMwWQDMzMzMzMxlAAAAAAAAAGkCamZmZmZkJQDMzMzMzMwtAMzMzMzMzE0BmZmZmZmYaQM3MzMzMzBpAAAAAAAAAGEBmZmZmZmYSQM3MzMzMzPw/zczMzMzM/L9mZmZmZmYOQJqZmZmZmQ1AzczMzMzMEEDNzMzMzMwMQJqZmZmZmRFAAAAAAAAAEECamZmZmZkFQM3MzMzMzBBA\",\"dtype\":\"float64\",\"shape\":[69]}},\"selected\":{\"id\":\"1854\",\"type\":\"Selection\"},\"selection_policy\":{\"id\":\"1855\",\"type\":\"UnionRenderers\"}},\"id\":\"1830\",\"type\":\"ColumnDataSource\"},{\"attributes\":{\"data_source\":{\"id\":\"1830\",\"type\":\"ColumnDataSource\"},\"glyph\":{\"id\":\"1831\",\"type\":\"Line\"},\"hover_glyph\":null,\"muted_glyph\":null,\"nonselection_glyph\":{\"id\":\"1832\",\"type\":\"Line\"},\"selection_glyph\":null,\"view\":{\"id\":\"1834\",\"type\":\"CDSView\"}},\"id\":\"1833\",\"type\":\"GlyphRenderer\"},{\"attributes\":{\"active_drag\":\"auto\",\"active_inspect\":\"auto\",\"active_multi\":null,\"active_scroll\":\"auto\",\"active_tap\":\"auto\",\"tools\":[{\"id\":\"1815\",\"type\":\"PanTool\"},{\"id\":\"1816\",\"type\":\"WheelZoomTool\"},{\"id\":\"1817\",\"type\":\"BoxZoomTool\"},{\"id\":\"1818\",\"type\":\"SaveTool\"},{\"id\":\"1819\",\"type\":\"ResetTool\"},{\"id\":\"1820\",\"type\":\"HelpTool\"}]},\"id\":\"1821\",\"type\":\"Toolbar\"},{\"attributes\":{\"label\":{\"value\":\"% GDP change\"},\"renderers\":[{\"id\":\"1833\",\"type\":\"GlyphRenderer\"}]},\"id\":\"1842\",\"type\":\"LegendItem\"},{\"attributes\":{\"callback\":null,\"data\":{\"x\":[1948,1949,1950,1951,1952,1953,1954,1955,1956,1957,1958,1959,1960,1961,1962,1963,1964,1965,1966,1967,1968,1969,1970,1971,1972,1973,1974,1975,1976,1977,1978,1979,1980,1981,1982,1983,1984,1985,1986,1987,1988,1989,1990,1991,1992,1993,1994,1995,1996,1997,1998,1999,2000,2001,2002,2003,2004,2005,2006,2007,2008,2009,2010,2011,2012,2013,2014,2015,2016],\"y\":{\"__ndarray__\":\"AAAAAAAADkAzMzMzMzMYQFVVVVVV1RRARURERERECkA0MzMzMzMIQGdmZmZmZgdA3d3d3d1dFkB4d3d3d3cRQAAAAAAAgBBAMzMzMzMzEUDd3d3d3V0bQM3MzMzMzBVArKqqqqoqFkBERERERMQaQEVERERERBZAEhERERGRFkAiIiIiIqIUQImIiIiICBJAVVVVVVVVDkC5u7u7u7sOQHd3d3d3dwxA7+7u7u7uC0Dv7u7u7u4TQM3MzMzMzBdAZ2ZmZmZmFkDu7u7u7m4TQBIRERERkRZAMzMzMzPzIEDLzMzMzMweQDUzMzMzMxxAREREREREGEBnZmZmZmYXQDUzMzMzsxxAeHd3d3d3HkCqqqqqqmojQDMzMzMzMyNAiYiIiIgIHkBERERERMQcQAAAAAAAABxANTMzMzOzGEB3d3d3d/cVQIiIiIiICBVAd3d3d3d3FkBlZmZmZmYbQHh3d3d39x1AISIiIiKiG0BnZmZmZmYYQN/d3d3dXRZAIyIiIiKiFUBERERERMQTQAAAAAAAABJA393d3d3dEEC5u7u7u7sPQHd3d3d39xJAIyIiIiIiF0B4d3d3d/cXQKyqqqqqKhZAVVVVVVVVFEDv7u7u7m4SQHh3d3d3dxJAMzMzMzMzF0AREREREZEiQHd3d3d3NyNA3t3d3d3dIUBnZmZmZiYgQO/u7u7ubh1AIyIiIiKiGECamZmZmRkVQAAAAAAAgBNA\",\"dtype\":\"float64\",\"shape\":[69]}},\"selected\":{\"id\":\"1885\",\"type\":\"Selection\"},\"selection_policy\":{\"id\":\"1886\",\"type\":\"UnionRenderers\"}},\"id\":\"1843\",\"type\":\"ColumnDataSource\"},{\"attributes\":{},\"id\":\"1811\",\"type\":\"BasicTicker\"},{\"attributes\":{\"items\":[{\"id\":\"1842\",\"type\":\"LegendItem\"},{\"id\":\"1856\",\"type\":\"LegendItem\"}],\"plot\":{\"id\":\"1795\",\"subtype\":\"Figure\",\"type\":\"Plot\"}},\"id\":\"1841\",\"type\":\"Legend\"},{\"attributes\":{\"line_color\":\"#1f77b4\",\"line_width\":4,\"x\":{\"field\":\"x\"},\"y\":{\"field\":\"y\"}},\"id\":\"1844\",\"type\":\"Line\"},{\"attributes\":{\"plot\":null,\"text\":\"Data Analysis with GDP & Unemployment\"},\"id\":\"1794\",\"type\":\"Title\"},{\"attributes\":{\"axis_label\":\"year\",\"formatter\":{\"id\":\"1839\",\"type\":\"BasicTickFormatter\"},\"plot\":{\"id\":\"1795\",\"subtype\":\"Figure\",\"type\":\"Plot\"},\"ticker\":{\"id\":\"1806\",\"type\":\"BasicTicker\"}},\"id\":\"1805\",\"type\":\"LinearAxis\"},{\"attributes\":{\"callback\":null},\"id\":\"1797\",\"type\":\"DataRange1d\"},{\"attributes\":{\"source\":{\"id\":\"1843\",\"type\":\"ColumnDataSource\"}},\"id\":\"1847\",\"type\":\"CDSView\"}],\"root_ids\":[\"1795\"]},\"title\":\"Bokeh Application\",\"version\":\"1.0.4\"}};\n  var render_items = [{\"docid\":\"a0266558-ac43-4b3c-966e-e683a8db7cc7\",\"roots\":{\"1795\":\"bedbf930-bec6-4d17-88b1-7e01b017f10e\"}}];\n  root.Bokeh.embed.embed_items_notebook(docs_json, render_items);\n\n  }\n  if (root.Bokeh !== undefined) {\n    embed_document(root);\n  } else {\n    var attempts = 0;\n    var timer = setInterval(function(root) {\n      if (root.Bokeh !== undefined) {\n        embed_document(root);\n        clearInterval(timer);\n      }\n      attempts++;\n      if (attempts > 100) {\n        console.log(\"Bokeh: ERROR: Unable to run BokehJS code because BokehJS library is missing\");\n        clearInterval(timer);\n      }\n    }, 10, root)\n  }\n})(window);",
                        "application/vnd.bokehjs_exec.v0+json": ""
                    },
                    "metadata": {
                        "application/vnd.bokehjs_exec.v0+json": {
                            "id": "1795"
                        }
                    },
                    "output_type": "display_data"
                }
            ],
            "source": "import pandas as pd\nfrom bokeh.plotting import figure, output_file, show, output_notebook\n\ndef make_dashboard(x, gdp_change, unemployment, title, file_name):\n    output_file(file_name)\n    output_notebook()\n    img = figure(title=title, x_axis_label='year', y_axis_label='%')\n    img.line(x.squeeze(), gdp_change.squeeze(), color=\"red\", line_width=4, legend=\"% GDP change\")\n    img.line(x.squeeze(), unemployment.squeeze(), line_width=4, legend=\"% unemployed\")\n    show(img)\n\ngdp_path = 'https://s3-api.us-geo.objectstorage.softlayer.net/cf-courses-data/CognitiveClass/PY0101EN/projects/coursera_project/clean_gdp.csv'\nunemploy_path = 'https://s3-api.us-geo.objectstorage.softlayer.net/cf-courses-data/CognitiveClass/PY0101EN/projects/coursera_project/clean_unemployment.csv'\n\ngdp_df = pd.read_csv(gdp_path)\nunemploy_df = pd.read_csv(unemploy_path)\n\nx = unemploy_df['date']\ngdp_change = gdp_df['change-current']\ntitle = \"Data Analysis with GDP & Unemployment\"\nunemployment = unemploy_df['unemployment']\nfile_name = \"index.html\"\n\nmake_dashboard(x=x, gdp_change=gdp_change, unemployment=unemployment, title=title, file_name=file_name)"
        },
        {
            "cell_type": "markdown",
            "metadata": {},
            "source": "<a href=\"https://cognitiveclass.ai/\">\n    <img src=\"https://s3-api.us-geo.objectstorage.softlayer.net/cf-courses-data/CognitiveClass/PY0101EN/Ad/CCLog.png\" width=\"200\" align=\"center\">\n</a>"
        },
        {
            "cell_type": "markdown",
            "metadata": {},
            "source": "<h1>Introduction to Pandas Python</h1>"
        },
        {
            "cell_type": "markdown",
            "metadata": {},
            "source": "<p><strong>Welcome!</strong> This notebook will teach you about using <code>Pandas</code> in the Python Programming Language. By the end of this lab, you'll know how to use <code>Pandas</code> package to view and access data.</p>"
        },
        {
            "cell_type": "markdown",
            "metadata": {},
            "source": "<h2>Table of Contents</h2>\n<div class=\"alert alert-block alert-info\" style=\"margin-top: 20px\">\n    <ul>\n        <li><a href=\"dataset\">About the Dataset</a></li>\n        <li><a href=\"pandas\">Introduction of <code>Pandas</code></a></li>\n        <li><a href=\"data\">Viewing Data and Accessing Data</a></li>\n        <li><a href=\"quiz\">Quiz on DataFrame</a></li>\n    </ul>\n    <p>\n        Estimated time needed: <strong>15 min</strong>\n    </p>\n</div>\n\n<hr>"
        },
        {
            "cell_type": "markdown",
            "metadata": {},
            "source": "<h2 id=\"dataset\">About the Dataset</h2>"
        },
        {
            "cell_type": "markdown",
            "metadata": {},
            "source": "The table has one row for each album and several columns\n\n<ul>\n    <li><b>artist</b>: Name of the artist</li>\n    <li><b>album</b>: Name of the album</li>\n    <li><b>released_year</b>: Year the album was released</li>\n    <li><b>length_min_sec</b>: Length of the album (hours,minutes,seconds)</li>\n    <li><b>genre</b>: Genre of the album</li>\n    <li><b>music_recording_sales_millions</b>: Music recording sales (millions in USD) on <a href=\"http://www.song-database.com/\">[SONG://DATABASE]</a></li>\n    <li><b>claimed_sales_millions</b>: Album's claimed sales (millions in USD) on <a href=\"http://www.song-database.com/\">[SONG://DATABASE]</a></li>\n    <li><b>date_released</b>: Date on which the album was released</li>\n    <li><b>soundtrack</b>: Indicates if the album is the movie soundtrack (Y) or (N)</li>\n    <li><b>rating_of_friends</b>: Indicates the rating from your friends from 1 to 10</li>\n</ul>\n\nYou can see the dataset here:\n\n<font size=\"1\">\n<table font-size:xx-small style=\"width:25%\">\n  <tr>\n    <th>Artist</th>\n    <th>Album</th> \n    <th>Released</th>\n    <th>Length</th>\n    <th>Genre</th> \n    <th>Music recording sales (millions)</th>\n    <th>Claimed sales (millions)</th>\n    <th>Released</th>\n    <th>Soundtrack</th>\n    <th>Rating (friends)</th>\n  </tr>\n  <tr>\n    <td>Michael Jackson</td>\n    <td>Thriller</td> \n    <td>1982</td>\n    <td>00:42:19</td>\n    <td>Pop, rock, R&B</td>\n    <td>46</td>\n    <td>65</td>\n    <td>30-Nov-82</td>\n    <td></td>\n    <td>10.0</td>\n  </tr>\n  <tr>\n    <td>AC/DC</td>\n    <td>Back in Black</td> \n    <td>1980</td>\n    <td>00:42:11</td>\n    <td>Hard rock</td>\n    <td>26.1</td>\n    <td>50</td>\n    <td>25-Jul-80</td>\n    <td></td>\n    <td>8.5</td>\n  </tr>\n    <tr>\n    <td>Pink Floyd</td>\n    <td>The Dark Side of the Moon</td> \n    <td>1973</td>\n    <td>00:42:49</td>\n    <td>Progressive rock</td>\n    <td>24.2</td>\n    <td>45</td>\n    <td>01-Mar-73</td>\n    <td></td>\n    <td>9.5</td>\n  </tr>\n    <tr>\n    <td>Whitney Houston</td>\n    <td>The Bodyguard</td> \n    <td>1992</td>\n    <td>00:57:44</td>\n    <td>Soundtrack/R&B, soul, pop</td>\n    <td>26.1</td>\n    <td>50</td>\n    <td>25-Jul-80</td>\n    <td>Y</td>\n    <td>7.0</td>\n  </tr>\n    <tr>\n    <td>Meat Loaf</td>\n    <td>Bat Out of Hell</td> \n    <td>1977</td>\n    <td>00:46:33</td>\n    <td>Hard rock, progressive rock</td>\n    <td>20.6</td>\n    <td>43</td>\n    <td>21-Oct-77</td>\n    <td></td>\n    <td>7.0</td>\n  </tr>\n    <tr>\n    <td>Eagles</td>\n    <td>Their Greatest Hits (1971-1975)</td> \n    <td>1976</td>\n    <td>00:43:08</td>\n    <td>Rock, soft rock, folk rock</td>\n    <td>32.2</td>\n    <td>42</td>\n    <td>17-Feb-76</td>\n    <td></td>\n    <td>9.5</td>\n  </tr>\n    <tr>\n    <td>Bee Gees</td>\n    <td>Saturday Night Fever</td> \n    <td>1977</td>\n    <td>1:15:54</td>\n    <td>Disco</td>\n    <td>20.6</td>\n    <td>40</td>\n    <td>15-Nov-77</td>\n    <td>Y</td>\n    <td>9.0</td>\n  </tr>\n    <tr>\n    <td>Fleetwood Mac</td>\n    <td>Rumours</td> \n    <td>1977</td>\n    <td>00:40:01</td>\n    <td>Soft rock</td>\n    <td>27.9</td>\n    <td>40</td>\n    <td>04-Feb-77</td>\n    <td></td>\n    <td>9.5</td>\n  </tr>\n</table></font>"
        },
        {
            "cell_type": "markdown",
            "metadata": {},
            "source": "<hr>"
        },
        {
            "cell_type": "markdown",
            "metadata": {},
            "source": "<h2 id=\"pandas\">Introduction of <code>Pandas</code></h2>"
        },
        {
            "cell_type": "code",
            "execution_count": 5,
            "metadata": {},
            "outputs": [
                {
                    "name": "stdout",
                    "output_type": "stream",
                    "text": "Requirement already satisfied: xlrd in /opt/conda/envs/Python36/lib/python3.6/site-packages (1.2.0)\r\n"
                }
            ],
            "source": "# Dependency needed to install file \n\n!pip install xlrd"
        },
        {
            "cell_type": "code",
            "execution_count": 6,
            "metadata": {},
            "outputs": [],
            "source": "# Import required library\n\nimport pandas as pd"
        },
        {
            "cell_type": "markdown",
            "metadata": {},
            "source": "After the import command, we now have access to a large number of pre-built classes and functions. This assumes the library is installed; in our lab environment all the necessary libraries are installed. One way pandas allows you to work with data is a dataframe. Let's go through the process to go from a comma separated values (<b>.csv</b>) file to a dataframe. This variable <code>csv_path</code> stores the path of the <b>.csv</b>, that is  used as an argument to the <code>read_csv</code> function. The result is stored in the object <code>df</code>, this is a common short form used for a variable referring to a Pandas dataframe. "
        },
        {
            "cell_type": "code",
            "execution_count": 7,
            "metadata": {
                "scrolled": true
            },
            "outputs": [],
            "source": "# Read data from CSV file\n\ncsv_path = 'https://s3-api.us-geo.objectstorage.softlayer.net/cf-courses-data/CognitiveClass/PY0101EN/Chapter%204/Datasets/TopSellingAlbums.csv'\ndf = pd.read_csv(csv_path)"
        },
        {
            "cell_type": "markdown",
            "metadata": {},
            "source": "We can use the method <code>head()</code> to examine the first five rows of a dataframe: "
        },
        {
            "cell_type": "code",
            "execution_count": 8,
            "metadata": {},
            "outputs": [
                {
                    "data": {
                        "text/html": "<div>\n<style scoped>\n    .dataframe tbody tr th:only-of-type {\n        vertical-align: middle;\n    }\n\n    .dataframe tbody tr th {\n        vertical-align: top;\n    }\n\n    .dataframe thead th {\n        text-align: right;\n    }\n</style>\n<table border=\"1\" class=\"dataframe\">\n  <thead>\n    <tr style=\"text-align: right;\">\n      <th></th>\n      <th>Artist</th>\n      <th>Album</th>\n      <th>Released</th>\n      <th>Length</th>\n      <th>Genre</th>\n      <th>Music Recording Sales (millions)</th>\n      <th>Claimed Sales (millions)</th>\n      <th>Released.1</th>\n      <th>Soundtrack</th>\n      <th>Rating</th>\n    </tr>\n  </thead>\n  <tbody>\n    <tr>\n      <th>0</th>\n      <td>Michael Jackson</td>\n      <td>Thriller</td>\n      <td>1982</td>\n      <td>0:42:19</td>\n      <td>pop, rock, R&amp;B</td>\n      <td>46.0</td>\n      <td>65</td>\n      <td>30-Nov-82</td>\n      <td>NaN</td>\n      <td>10.0</td>\n    </tr>\n    <tr>\n      <th>1</th>\n      <td>AC/DC</td>\n      <td>Back in Black</td>\n      <td>1980</td>\n      <td>0:42:11</td>\n      <td>hard rock</td>\n      <td>26.1</td>\n      <td>50</td>\n      <td>25-Jul-80</td>\n      <td>NaN</td>\n      <td>9.5</td>\n    </tr>\n    <tr>\n      <th>2</th>\n      <td>Pink Floyd</td>\n      <td>The Dark Side of the Moon</td>\n      <td>1973</td>\n      <td>0:42:49</td>\n      <td>progressive rock</td>\n      <td>24.2</td>\n      <td>45</td>\n      <td>01-Mar-73</td>\n      <td>NaN</td>\n      <td>9.0</td>\n    </tr>\n    <tr>\n      <th>3</th>\n      <td>Whitney Houston</td>\n      <td>The Bodyguard</td>\n      <td>1992</td>\n      <td>0:57:44</td>\n      <td>R&amp;B, soul, pop</td>\n      <td>27.4</td>\n      <td>44</td>\n      <td>17-Nov-92</td>\n      <td>Y</td>\n      <td>8.5</td>\n    </tr>\n    <tr>\n      <th>4</th>\n      <td>Meat Loaf</td>\n      <td>Bat Out of Hell</td>\n      <td>1977</td>\n      <td>0:46:33</td>\n      <td>hard rock, progressive rock</td>\n      <td>20.6</td>\n      <td>43</td>\n      <td>21-Oct-77</td>\n      <td>NaN</td>\n      <td>8.0</td>\n    </tr>\n  </tbody>\n</table>\n</div>",
                        "text/plain": "            Artist                      Album  Released   Length  \\\n0  Michael Jackson                   Thriller      1982  0:42:19   \n1            AC/DC              Back in Black      1980  0:42:11   \n2       Pink Floyd  The Dark Side of the Moon      1973  0:42:49   \n3  Whitney Houston              The Bodyguard      1992  0:57:44   \n4        Meat Loaf            Bat Out of Hell      1977  0:46:33   \n\n                         Genre  Music Recording Sales (millions)  \\\n0               pop, rock, R&B                              46.0   \n1                    hard rock                              26.1   \n2             progressive rock                              24.2   \n3               R&B, soul, pop                              27.4   \n4  hard rock, progressive rock                              20.6   \n\n   Claimed Sales (millions) Released.1 Soundtrack  Rating  \n0                        65  30-Nov-82        NaN    10.0  \n1                        50  25-Jul-80        NaN     9.5  \n2                        45  01-Mar-73        NaN     9.0  \n3                        44  17-Nov-92          Y     8.5  \n4                        43  21-Oct-77        NaN     8.0  "
                    },
                    "execution_count": 8,
                    "metadata": {},
                    "output_type": "execute_result"
                }
            ],
            "source": "# Print first five rows of the dataframe\n\ndf.head()"
        },
        {
            "cell_type": "markdown",
            "metadata": {},
            "source": " We use the path of the excel file and the function <code>read_excel</code>. The result is a data frame as before:"
        },
        {
            "cell_type": "code",
            "execution_count": 9,
            "metadata": {},
            "outputs": [
                {
                    "data": {
                        "text/html": "<div>\n<style scoped>\n    .dataframe tbody tr th:only-of-type {\n        vertical-align: middle;\n    }\n\n    .dataframe tbody tr th {\n        vertical-align: top;\n    }\n\n    .dataframe thead th {\n        text-align: right;\n    }\n</style>\n<table border=\"1\" class=\"dataframe\">\n  <thead>\n    <tr style=\"text-align: right;\">\n      <th></th>\n      <th>Artist</th>\n      <th>Album</th>\n      <th>Released</th>\n      <th>Length</th>\n      <th>Genre</th>\n      <th>Music Recording Sales (millions)</th>\n      <th>Claimed Sales (millions)</th>\n      <th>Released.1</th>\n      <th>Soundtrack</th>\n      <th>Rating</th>\n    </tr>\n  </thead>\n  <tbody>\n    <tr>\n      <th>0</th>\n      <td>Michael Jackson</td>\n      <td>Thriller</td>\n      <td>1982</td>\n      <td>00:42:19</td>\n      <td>pop, rock, R&amp;B</td>\n      <td>46.0</td>\n      <td>65</td>\n      <td>1982-11-30</td>\n      <td>NaN</td>\n      <td>10.0</td>\n    </tr>\n    <tr>\n      <th>1</th>\n      <td>AC/DC</td>\n      <td>Back in Black</td>\n      <td>1980</td>\n      <td>00:42:11</td>\n      <td>hard rock</td>\n      <td>26.1</td>\n      <td>50</td>\n      <td>1980-07-25</td>\n      <td>NaN</td>\n      <td>9.5</td>\n    </tr>\n    <tr>\n      <th>2</th>\n      <td>Pink Floyd</td>\n      <td>The Dark Side of the Moon</td>\n      <td>1973</td>\n      <td>00:42:49</td>\n      <td>progressive rock</td>\n      <td>24.2</td>\n      <td>45</td>\n      <td>1973-03-01</td>\n      <td>NaN</td>\n      <td>9.0</td>\n    </tr>\n    <tr>\n      <th>3</th>\n      <td>Whitney Houston</td>\n      <td>The Bodyguard</td>\n      <td>1992</td>\n      <td>00:57:44</td>\n      <td>R&amp;B, soul, pop</td>\n      <td>27.4</td>\n      <td>44</td>\n      <td>1992-11-17</td>\n      <td>Y</td>\n      <td>8.5</td>\n    </tr>\n    <tr>\n      <th>4</th>\n      <td>Meat Loaf</td>\n      <td>Bat Out of Hell</td>\n      <td>1977</td>\n      <td>00:46:33</td>\n      <td>hard rock, progressive rock</td>\n      <td>20.6</td>\n      <td>43</td>\n      <td>1977-10-21</td>\n      <td>NaN</td>\n      <td>8.0</td>\n    </tr>\n  </tbody>\n</table>\n</div>",
                        "text/plain": "            Artist                      Album  Released    Length  \\\n0  Michael Jackson                   Thriller      1982  00:42:19   \n1            AC/DC              Back in Black      1980  00:42:11   \n2       Pink Floyd  The Dark Side of the Moon      1973  00:42:49   \n3  Whitney Houston              The Bodyguard      1992  00:57:44   \n4        Meat Loaf            Bat Out of Hell      1977  00:46:33   \n\n                         Genre  Music Recording Sales (millions)  \\\n0               pop, rock, R&B                              46.0   \n1                    hard rock                              26.1   \n2             progressive rock                              24.2   \n3               R&B, soul, pop                              27.4   \n4  hard rock, progressive rock                              20.6   \n\n   Claimed Sales (millions) Released.1 Soundtrack  Rating  \n0                        65 1982-11-30        NaN    10.0  \n1                        50 1980-07-25        NaN     9.5  \n2                        45 1973-03-01        NaN     9.0  \n3                        44 1992-11-17          Y     8.5  \n4                        43 1977-10-21        NaN     8.0  "
                    },
                    "execution_count": 9,
                    "metadata": {},
                    "output_type": "execute_result"
                }
            ],
            "source": "# Read data from Excel File and print the first five rows\n\nxlsx_path = 'https://s3-api.us-geo.objectstorage.softlayer.net/cf-courses-data/CognitiveClass/PY0101EN/Chapter%204/Datasets/TopSellingAlbums.xlsx'\n\ndf = pd.read_excel(xlsx_path)\ndf.head()"
        },
        {
            "cell_type": "markdown",
            "metadata": {},
            "source": "We can access the column <b>Length</b> and assign it a new dataframe <b>x</b>:"
        },
        {
            "cell_type": "code",
            "execution_count": 10,
            "metadata": {},
            "outputs": [
                {
                    "data": {
                        "text/html": "<div>\n<style scoped>\n    .dataframe tbody tr th:only-of-type {\n        vertical-align: middle;\n    }\n\n    .dataframe tbody tr th {\n        vertical-align: top;\n    }\n\n    .dataframe thead th {\n        text-align: right;\n    }\n</style>\n<table border=\"1\" class=\"dataframe\">\n  <thead>\n    <tr style=\"text-align: right;\">\n      <th></th>\n      <th>Length</th>\n    </tr>\n  </thead>\n  <tbody>\n    <tr>\n      <th>0</th>\n      <td>00:42:19</td>\n    </tr>\n    <tr>\n      <th>1</th>\n      <td>00:42:11</td>\n    </tr>\n    <tr>\n      <th>2</th>\n      <td>00:42:49</td>\n    </tr>\n    <tr>\n      <th>3</th>\n      <td>00:57:44</td>\n    </tr>\n    <tr>\n      <th>4</th>\n      <td>00:46:33</td>\n    </tr>\n    <tr>\n      <th>5</th>\n      <td>00:43:08</td>\n    </tr>\n    <tr>\n      <th>6</th>\n      <td>01:15:54</td>\n    </tr>\n    <tr>\n      <th>7</th>\n      <td>00:40:01</td>\n    </tr>\n  </tbody>\n</table>\n</div>",
                        "text/plain": "     Length\n0  00:42:19\n1  00:42:11\n2  00:42:49\n3  00:57:44\n4  00:46:33\n5  00:43:08\n6  01:15:54\n7  00:40:01"
                    },
                    "execution_count": 10,
                    "metadata": {},
                    "output_type": "execute_result"
                }
            ],
            "source": "# Access to the column Length\n\nx = df[['Length']]\nx"
        },
        {
            "cell_type": "markdown",
            "metadata": {},
            "source": " The process is shown in the figure: "
        },
        {
            "cell_type": "markdown",
            "metadata": {},
            "source": "<img src=\"https://s3-api.us-geo.objectstorage.softlayer.net/cf-courses-data/CognitiveClass/PY0101EN/Chapter%204/Images/DataEgOne.png\" width=\"750\" />"
        },
        {
            "cell_type": "markdown",
            "metadata": {},
            "source": "<hr>"
        },
        {
            "cell_type": "markdown",
            "metadata": {},
            "source": "<h2 id=\"data\">Viewing Data and Accessing Data</h2>"
        },
        {
            "cell_type": "markdown",
            "metadata": {},
            "source": "You can also get a column as a series. You can think of a Pandas series as a 1-D dataframe. Just use one bracket: "
        },
        {
            "cell_type": "code",
            "execution_count": 11,
            "metadata": {},
            "outputs": [
                {
                    "data": {
                        "text/plain": "0    00:42:19\n1    00:42:11\n2    00:42:49\n3    00:57:44\n4    00:46:33\n5    00:43:08\n6    01:15:54\n7    00:40:01\nName: Length, dtype: object"
                    },
                    "execution_count": 11,
                    "metadata": {},
                    "output_type": "execute_result"
                }
            ],
            "source": "# Get the column as a series\n\nx = df['Length']\nx"
        },
        {
            "cell_type": "markdown",
            "metadata": {},
            "source": "You can also get a column as a dataframe. For example, we can assign the column <b>Artist</b>:"
        },
        {
            "cell_type": "code",
            "execution_count": 12,
            "metadata": {},
            "outputs": [
                {
                    "data": {
                        "text/plain": "pandas.core.frame.DataFrame"
                    },
                    "execution_count": 12,
                    "metadata": {},
                    "output_type": "execute_result"
                }
            ],
            "source": "# Get the column as a dataframe\n\nx = type(df[['Artist']])\nx"
        },
        {
            "cell_type": "markdown",
            "metadata": {},
            "source": "You can do the same thing for multiple columns; we just put the dataframe name, in this case, <code>df</code>, and the name of the multiple column headers enclosed in double brackets. The result is a new dataframe comprised of the specified columns:"
        },
        {
            "cell_type": "code",
            "execution_count": 13,
            "metadata": {},
            "outputs": [
                {
                    "data": {
                        "text/html": "<div>\n<style scoped>\n    .dataframe tbody tr th:only-of-type {\n        vertical-align: middle;\n    }\n\n    .dataframe tbody tr th {\n        vertical-align: top;\n    }\n\n    .dataframe thead th {\n        text-align: right;\n    }\n</style>\n<table border=\"1\" class=\"dataframe\">\n  <thead>\n    <tr style=\"text-align: right;\">\n      <th></th>\n      <th>Artist</th>\n      <th>Length</th>\n      <th>Genre</th>\n    </tr>\n  </thead>\n  <tbody>\n    <tr>\n      <th>0</th>\n      <td>Michael Jackson</td>\n      <td>00:42:19</td>\n      <td>pop, rock, R&amp;B</td>\n    </tr>\n    <tr>\n      <th>1</th>\n      <td>AC/DC</td>\n      <td>00:42:11</td>\n      <td>hard rock</td>\n    </tr>\n    <tr>\n      <th>2</th>\n      <td>Pink Floyd</td>\n      <td>00:42:49</td>\n      <td>progressive rock</td>\n    </tr>\n    <tr>\n      <th>3</th>\n      <td>Whitney Houston</td>\n      <td>00:57:44</td>\n      <td>R&amp;B, soul, pop</td>\n    </tr>\n    <tr>\n      <th>4</th>\n      <td>Meat Loaf</td>\n      <td>00:46:33</td>\n      <td>hard rock, progressive rock</td>\n    </tr>\n    <tr>\n      <th>5</th>\n      <td>Eagles</td>\n      <td>00:43:08</td>\n      <td>rock, soft rock, folk rock</td>\n    </tr>\n    <tr>\n      <th>6</th>\n      <td>Bee Gees</td>\n      <td>01:15:54</td>\n      <td>disco</td>\n    </tr>\n    <tr>\n      <th>7</th>\n      <td>Fleetwood Mac</td>\n      <td>00:40:01</td>\n      <td>soft rock</td>\n    </tr>\n  </tbody>\n</table>\n</div>",
                        "text/plain": "            Artist    Length                        Genre\n0  Michael Jackson  00:42:19               pop, rock, R&B\n1            AC/DC  00:42:11                    hard rock\n2       Pink Floyd  00:42:49             progressive rock\n3  Whitney Houston  00:57:44               R&B, soul, pop\n4        Meat Loaf  00:46:33  hard rock, progressive rock\n5           Eagles  00:43:08   rock, soft rock, folk rock\n6         Bee Gees  01:15:54                        disco\n7    Fleetwood Mac  00:40:01                    soft rock"
                    },
                    "execution_count": 13,
                    "metadata": {},
                    "output_type": "execute_result"
                }
            ],
            "source": "# Access to multiple columns\n\ny = df[['Artist','Length','Genre']]\ny"
        },
        {
            "cell_type": "markdown",
            "metadata": {},
            "source": "The process is shown in the figure:"
        },
        {
            "cell_type": "markdown",
            "metadata": {},
            "source": "<img src = \"https://s3-api.us-geo.objectstorage.softlayer.net/cf-courses-data/CognitiveClass/PY0101EN/Chapter%204/Images/DataEgTwo.png\" width=\"1100\" />"
        },
        {
            "cell_type": "markdown",
            "metadata": {},
            "source": "One way to access unique elements is the <code>iloc</code> method, where you can access the 1st row and the 1st column as follows:"
        },
        {
            "cell_type": "code",
            "execution_count": 14,
            "metadata": {},
            "outputs": [
                {
                    "data": {
                        "text/plain": "'Michael Jackson'"
                    },
                    "execution_count": 14,
                    "metadata": {},
                    "output_type": "execute_result"
                }
            ],
            "source": "# Access the value on the first row and the first column\n\ndf.iloc[0, 0]"
        },
        {
            "cell_type": "markdown",
            "metadata": {},
            "source": "You can access the 2nd row and the 1st column as follows:"
        },
        {
            "cell_type": "code",
            "execution_count": 15,
            "metadata": {},
            "outputs": [
                {
                    "data": {
                        "text/plain": "'AC/DC'"
                    },
                    "execution_count": 15,
                    "metadata": {},
                    "output_type": "execute_result"
                }
            ],
            "source": "# Access the value on the second row and the first column\n\ndf.iloc[1,0]"
        },
        {
            "cell_type": "markdown",
            "metadata": {},
            "source": "You can access the 1st row and the 3rd column as follows: "
        },
        {
            "cell_type": "code",
            "execution_count": 16,
            "metadata": {},
            "outputs": [
                {
                    "data": {
                        "text/plain": "1982"
                    },
                    "execution_count": 16,
                    "metadata": {},
                    "output_type": "execute_result"
                }
            ],
            "source": "# Access the value on the first row and the third column\n\ndf.iloc[0,2]"
        },
        {
            "cell_type": "markdown",
            "metadata": {},
            "source": "You can access the column using the name as well, the following are the same as above: "
        },
        {
            "cell_type": "code",
            "execution_count": 17,
            "metadata": {},
            "outputs": [
                {
                    "data": {
                        "text/plain": "'Michael Jackson'"
                    },
                    "execution_count": 17,
                    "metadata": {},
                    "output_type": "execute_result"
                }
            ],
            "source": "# Access the column using the name\n\ndf.loc[0, 'Artist']"
        },
        {
            "cell_type": "code",
            "execution_count": 18,
            "metadata": {},
            "outputs": [
                {
                    "data": {
                        "text/plain": "'AC/DC'"
                    },
                    "execution_count": 18,
                    "metadata": {},
                    "output_type": "execute_result"
                }
            ],
            "source": "# Access the column using the name\n\ndf.loc[1, 'Artist']"
        },
        {
            "cell_type": "code",
            "execution_count": 19,
            "metadata": {},
            "outputs": [
                {
                    "data": {
                        "text/plain": "1982"
                    },
                    "execution_count": 19,
                    "metadata": {},
                    "output_type": "execute_result"
                }
            ],
            "source": "# Access the column using the name\n\ndf.loc[0, 'Released']"
        },
        {
            "cell_type": "code",
            "execution_count": 20,
            "metadata": {},
            "outputs": [
                {
                    "data": {
                        "text/plain": "1980"
                    },
                    "execution_count": 20,
                    "metadata": {},
                    "output_type": "execute_result"
                }
            ],
            "source": "# Access the column using the name\n\ndf.loc[1, 'Released']"
        },
        {
            "cell_type": "markdown",
            "metadata": {},
            "source": "You can perform slicing using both the index and the name of the column:"
        },
        {
            "cell_type": "code",
            "execution_count": 21,
            "metadata": {},
            "outputs": [
                {
                    "data": {
                        "text/html": "<div>\n<style scoped>\n    .dataframe tbody tr th:only-of-type {\n        vertical-align: middle;\n    }\n\n    .dataframe tbody tr th {\n        vertical-align: top;\n    }\n\n    .dataframe thead th {\n        text-align: right;\n    }\n</style>\n<table border=\"1\" class=\"dataframe\">\n  <thead>\n    <tr style=\"text-align: right;\">\n      <th></th>\n      <th>Artist</th>\n      <th>Album</th>\n      <th>Released</th>\n    </tr>\n  </thead>\n  <tbody>\n    <tr>\n      <th>0</th>\n      <td>Michael Jackson</td>\n      <td>Thriller</td>\n      <td>1982</td>\n    </tr>\n    <tr>\n      <th>1</th>\n      <td>AC/DC</td>\n      <td>Back in Black</td>\n      <td>1980</td>\n    </tr>\n  </tbody>\n</table>\n</div>",
                        "text/plain": "            Artist          Album  Released\n0  Michael Jackson       Thriller      1982\n1            AC/DC  Back in Black      1980"
                    },
                    "execution_count": 21,
                    "metadata": {},
                    "output_type": "execute_result"
                }
            ],
            "source": "# Slicing the dataframe\n\ndf.iloc[0:2, 0:3]"
        },
        {
            "cell_type": "code",
            "execution_count": 22,
            "metadata": {},
            "outputs": [
                {
                    "data": {
                        "text/html": "<div>\n<style scoped>\n    .dataframe tbody tr th:only-of-type {\n        vertical-align: middle;\n    }\n\n    .dataframe tbody tr th {\n        vertical-align: top;\n    }\n\n    .dataframe thead th {\n        text-align: right;\n    }\n</style>\n<table border=\"1\" class=\"dataframe\">\n  <thead>\n    <tr style=\"text-align: right;\">\n      <th></th>\n      <th>Artist</th>\n      <th>Album</th>\n      <th>Released</th>\n    </tr>\n  </thead>\n  <tbody>\n    <tr>\n      <th>0</th>\n      <td>Michael Jackson</td>\n      <td>Thriller</td>\n      <td>1982</td>\n    </tr>\n    <tr>\n      <th>1</th>\n      <td>AC/DC</td>\n      <td>Back in Black</td>\n      <td>1980</td>\n    </tr>\n    <tr>\n      <th>2</th>\n      <td>Pink Floyd</td>\n      <td>The Dark Side of the Moon</td>\n      <td>1973</td>\n    </tr>\n  </tbody>\n</table>\n</div>",
                        "text/plain": "            Artist                      Album  Released\n0  Michael Jackson                   Thriller      1982\n1            AC/DC              Back in Black      1980\n2       Pink Floyd  The Dark Side of the Moon      1973"
                    },
                    "execution_count": 22,
                    "metadata": {},
                    "output_type": "execute_result"
                }
            ],
            "source": "# Slicing the dataframe using name\n\ndf.loc[0:2, 'Artist':'Released']"
        },
        {
            "cell_type": "markdown",
            "metadata": {},
            "source": "<hr>"
        },
        {
            "cell_type": "markdown",
            "metadata": {},
            "source": "<h2 id=\"quiz\">Quiz on DataFrame</h2>"
        },
        {
            "cell_type": "markdown",
            "metadata": {},
            "source": "Use a variable <code>q</code> to store the column <b>Rating</b> as a dataframe"
        },
        {
            "cell_type": "code",
            "execution_count": 23,
            "metadata": {},
            "outputs": [
                {
                    "data": {
                        "text/html": "<div>\n<style scoped>\n    .dataframe tbody tr th:only-of-type {\n        vertical-align: middle;\n    }\n\n    .dataframe tbody tr th {\n        vertical-align: top;\n    }\n\n    .dataframe thead th {\n        text-align: right;\n    }\n</style>\n<table border=\"1\" class=\"dataframe\">\n  <thead>\n    <tr style=\"text-align: right;\">\n      <th></th>\n      <th>Rating</th>\n    </tr>\n  </thead>\n  <tbody>\n    <tr>\n      <th>0</th>\n      <td>10.0</td>\n    </tr>\n    <tr>\n      <th>1</th>\n      <td>9.5</td>\n    </tr>\n    <tr>\n      <th>2</th>\n      <td>9.0</td>\n    </tr>\n    <tr>\n      <th>3</th>\n      <td>8.5</td>\n    </tr>\n    <tr>\n      <th>4</th>\n      <td>8.0</td>\n    </tr>\n    <tr>\n      <th>5</th>\n      <td>7.5</td>\n    </tr>\n    <tr>\n      <th>6</th>\n      <td>7.0</td>\n    </tr>\n    <tr>\n      <th>7</th>\n      <td>6.5</td>\n    </tr>\n  </tbody>\n</table>\n</div>",
                        "text/plain": "   Rating\n0    10.0\n1     9.5\n2     9.0\n3     8.5\n4     8.0\n5     7.5\n6     7.0\n7     6.5"
                    },
                    "execution_count": 23,
                    "metadata": {},
                    "output_type": "execute_result"
                }
            ],
            "source": "import pandas as pd\ncsv_path = 'https://s3-api.us-geo.objectstorage.softlayer.net/cf-courses-data/CognitiveClass/PY0101EN/Chapter%204/Datasets/TopSellingAlbums.csv'\ndf = pd.read_csv(csv_path)\nq=df[['Rating']]\nq"
        },
        {
            "cell_type": "markdown",
            "metadata": {},
            "source": "Double-click __here__ for the solution.\n\n<!-- Your answer is below:\nq = df[['Rating']]\nq\n-->"
        },
        {
            "cell_type": "markdown",
            "metadata": {},
            "source": "Assign the variable <code>q</code> to the dataframe that is made up of the column <b>Released</b> and <b>Artist</b>:"
        },
        {
            "cell_type": "code",
            "execution_count": 24,
            "metadata": {},
            "outputs": [
                {
                    "data": {
                        "text/html": "<div>\n<style scoped>\n    .dataframe tbody tr th:only-of-type {\n        vertical-align: middle;\n    }\n\n    .dataframe tbody tr th {\n        vertical-align: top;\n    }\n\n    .dataframe thead th {\n        text-align: right;\n    }\n</style>\n<table border=\"1\" class=\"dataframe\">\n  <thead>\n    <tr style=\"text-align: right;\">\n      <th></th>\n      <th>Released</th>\n      <th>Artist</th>\n    </tr>\n  </thead>\n  <tbody>\n    <tr>\n      <th>0</th>\n      <td>1982</td>\n      <td>Michael Jackson</td>\n    </tr>\n    <tr>\n      <th>1</th>\n      <td>1980</td>\n      <td>AC/DC</td>\n    </tr>\n    <tr>\n      <th>2</th>\n      <td>1973</td>\n      <td>Pink Floyd</td>\n    </tr>\n    <tr>\n      <th>3</th>\n      <td>1992</td>\n      <td>Whitney Houston</td>\n    </tr>\n    <tr>\n      <th>4</th>\n      <td>1977</td>\n      <td>Meat Loaf</td>\n    </tr>\n    <tr>\n      <th>5</th>\n      <td>1976</td>\n      <td>Eagles</td>\n    </tr>\n    <tr>\n      <th>6</th>\n      <td>1977</td>\n      <td>Bee Gees</td>\n    </tr>\n    <tr>\n      <th>7</th>\n      <td>1977</td>\n      <td>Fleetwood Mac</td>\n    </tr>\n  </tbody>\n</table>\n</div>",
                        "text/plain": "   Released           Artist\n0      1982  Michael Jackson\n1      1980            AC/DC\n2      1973       Pink Floyd\n3      1992  Whitney Houston\n4      1977        Meat Loaf\n5      1976           Eagles\n6      1977         Bee Gees\n7      1977    Fleetwood Mac"
                    },
                    "execution_count": 24,
                    "metadata": {},
                    "output_type": "execute_result"
                }
            ],
            "source": "import pandas as pd\ncsv_path = 'https://s3-api.us-geo.objectstorage.softlayer.net/cf-courses-data/CognitiveClass/PY0101EN/Chapter%204/Datasets/TopSellingAlbums.csv'\ndf = pd.read_csv(csv_path)\nq=df[['Released','Artist']]\nq\n"
        },
        {
            "cell_type": "markdown",
            "metadata": {},
            "source": "Double-click __here__ for the solution.\n\n<!-- Your answer is below:\nq = df[['Released', 'Artist']]\nq\n-->"
        },
        {
            "cell_type": "markdown",
            "metadata": {},
            "source": "Access the 2nd row and the 3rd column of <code>df</code>:"
        },
        {
            "cell_type": "code",
            "execution_count": 25,
            "metadata": {},
            "outputs": [
                {
                    "data": {
                        "text/plain": "1980"
                    },
                    "execution_count": 25,
                    "metadata": {},
                    "output_type": "execute_result"
                }
            ],
            "source": "import pandas as pd\ncsv_path = 'https://s3-api.us-geo.objectstorage.softlayer.net/cf-courses-data/CognitiveClass/PY0101EN/Chapter%204/Datasets/TopSellingAlbums.csv'\ndf = pd.read_csv(csv_path)\nq=df.iloc[1,2]\nq"
        },
        {
            "cell_type": "markdown",
            "metadata": {},
            "source": "Double-click __here__ for the solution.\n\n<!-- Your answer is below:\ndf.iloc[1, 2]\n-->"
        },
        {
            "cell_type": "markdown",
            "metadata": {},
            "source": "<hr>\n<h2>The last exercise!</h2>\n<p>Congratulations, you have completed your first lesson and hands-on lab in Python. However, there is one more thing you need to do. The Data Science community encourages sharing work. The best way to share and showcase your work is to share it on GitHub. By sharing your notebook on GitHub you are not only building your reputation with fellow data scientists, but you can also show it off when applying for a job. Even though this was your first piece of work, it is never too early to start building good habits. So, please read and follow <a href=\"https://cognitiveclass.ai/blog/data-scientists-stand-out-by-sharing-your-notebooks/\" target=\"_blank\">this article</a> to learn how to share your work.\n<hr>"
        },
        {
            "cell_type": "markdown",
            "metadata": {},
            "source": "<div class=\"alert alert-block alert-info\" style=\"margin-top: 20px\">\n<h2>Get IBM Watson Studio free of charge!</h2>\n    <p><a href=\"https://cocl.us/PY0101EN_edx_add_bbottom\"><img src=\"https://s3-api.us-geo.objectstorage.softlayer.net/cf-courses-data/CognitiveClass/PY0101EN/Ad/BottomAd.png\" width=\"750\" align=\"center\"></a></p>\n</div>"
        },
        {
            "cell_type": "markdown",
            "metadata": {},
            "source": "<h3>About the Authors:</h3>  \n<p><a href=\"https://www.linkedin.com/in/joseph-s-50398b136/\" target=\"_blank\">Joseph Santarcangelo</a> is a Data Scientist at IBM, and holds a PhD in Electrical Engineering. His research focused on using Machine Learning, Signal Processing, and Computer Vision to determine how videos impact human cognition. Joseph has been working for IBM since he completed his PhD.</p>"
        },
        {
            "cell_type": "markdown",
            "metadata": {},
            "source": "Other contributors: <a href=\"www.linkedin.com/in/jiahui-mavis-zhou-a4537814a\">Mavis Zhou</a>"
        },
        {
            "cell_type": "markdown",
            "metadata": {},
            "source": "<hr>"
        },
        {
            "cell_type": "markdown",
            "metadata": {},
            "source": "<p>Copyright &copy; 2018 IBM Developer Skills Network. This notebook and its source code are released under the terms of the <a href=\"https://cognitiveclass.ai/mit-license/\">MIT License</a>.</p>"
        }
    ],
    "metadata": {
        "anaconda-cloud": {},
        "kernelspec": {
            "display_name": "Python 3.6",
            "language": "python",
            "name": "python3"
        },
        "language_info": {
            "codemirror_mode": {
                "name": "ipython",
                "version": 3
            },
            "file_extension": ".py",
            "mimetype": "text/x-python",
            "name": "python",
            "nbconvert_exporter": "python",
            "pygments_lexer": "ipython3",
            "version": "3.6.9"
        }
    },
    "nbformat": 4,
    "nbformat_minor": 2
}